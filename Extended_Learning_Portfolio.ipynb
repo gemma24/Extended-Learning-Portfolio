{
  "nbformat": 4,
  "nbformat_minor": 0,
  "metadata": {
    "colab": {
      "name": "Extended Learning Portfolio.ipynb",
      "provenance": [],
      "authorship_tag": "ABX9TyNiA8ytym64eocW/g1D04g1",
      "include_colab_link": true
    },
    "kernelspec": {
      "name": "python3",
      "display_name": "Python 3"
    },
    "language_info": {
      "name": "python"
    }
  },
  "cells": [
    {
      "cell_type": "markdown",
      "metadata": {
        "id": "view-in-github",
        "colab_type": "text"
      },
      "source": [
        "<a href=\"https://colab.research.google.com/github/gemma24/Extended-Learning-Portfolio/blob/main/Extended_Learning_Portfolio.ipynb\" target=\"_parent\"><img src=\"https://colab.research.google.com/assets/colab-badge.svg\" alt=\"Open In Colab\"/></a>"
      ]
    },
    {
      "cell_type": "markdown",
      "metadata": {
        "id": "ooEinrs800h6"
      },
      "source": [
        "# ISYS5002 Extended Learning Portfolio\n",
        "### Student name: Gerelmaa Gerelt-od\n",
        "### Student ID: 20801940\n"
      ]
    },
    {
      "cell_type": "markdown",
      "metadata": {
        "id": "tqPpmNq41AS2"
      },
      "source": [
        "## Question 1.\n",
        "There is six simple operations that computer can understand.\n",
        "1. Input/Recieve information\n",
        "2. Output information\n",
        "3. Perform Arithmetic\n",
        "4. Assign a value to a variable\n",
        "5. Compare two variables\n",
        "6. Repeat a group of actions\n",
        "\n",
        "Today, we look into first 3 operations.\n",
        "\n",
        "As we always do, first we need to state problem clearly.\n",
        "# Describe the problems?\n",
        "* What is the current rate of the USD?\n",
        "* What is the data type of USD amount? Is it can be int or float?\n",
        "\n",
        "# Describe the input\n",
        "To create USD to AUD converter program, we need USD dollars amount.\n",
        "\n",
        "Our input is USD dollar amount. We can use input function.\n",
        "\n",
        "For example: \n",
        "\n",
        "USD = input('Please write your amounts of USD')\n",
        "\n",
        "# Perform arithmetic\n",
        "To recieve desired results, we need to perform some arithmetics. The current exchange rate is mentioned in a question 1 as USD = 1.38 AUD. Since we know the current exchange rate, we can mutiply amount of USD with the exchange rate to recieve AUD. But, we should remind that USD amount can be float.\n",
        "For example : \n",
        "AUD = float(USD)*1.38\n",
        "\n",
        "# Describe the Output\n",
        "Our output should be australia dollar amount. We can use print function.\n",
        "\n",
        "For example : \n",
        "\n",
        "print(' Converted AUD amount is: ', (AUD))\n"
      ]
    },
    {
      "cell_type": "markdown",
      "metadata": {
        "id": "1arFTobKAnun"
      },
      "source": [
        "## Question 2\n",
        "Add some comments and explenation."
      ]
    },
    {
      "cell_type": "code",
      "metadata": {
        "id": "5h0kiV0hA__Y"
      },
      "source": [
        "def get_url(search_term, template): \n",
        "  '''This function will generate URL with search term and template'''\n",
        " search_term = search_term.replace(' ', '+') # Replacing spaces with \"+\" in search_term\n",
        " url = template.format(search_term) # Add page query to url\n",
        " url += '&page={}' # Add page to the placeholder\n",
        " return url # Stores the URL that genearated in the function\n"
      ],
      "execution_count": 1,
      "outputs": []
    },
    {
      "cell_type": "markdown",
      "metadata": {
        "id": "v3Q4WcTGF7F4"
      },
      "source": [
        "## Question 3\n",
        "Identify and correct at least five errors in the  following code. "
      ]
    },
    {
      "cell_type": "code",
      "metadata": {
        "colab": {
          "base_uri": "https://localhost:8080/",
          "height": 128
        },
        "id": "6nZsuuHMBBDl",
        "outputId": "296b3f5b-87be-4019-e5f2-279074f5dcda"
      },
      "source": [
        "def efficiency(dist, gas) \n",
        " return dist/gas \n",
        "km = input (\"How far did your car travel? (In kilometers?) ) liters = input (\"How much gas did you use? (In liters)\" \n",
        "MPG = efficiency(dist_traveled, Liters) \n",
        "print MPG \n"
      ],
      "execution_count": 2,
      "outputs": [
        {
          "output_type": "error",
          "ename": "SyntaxError",
          "evalue": "ignored",
          "traceback": [
            "\u001b[0;36m  File \u001b[0;32m\"<ipython-input-2-0d367a017655>\"\u001b[0;36m, line \u001b[0;32m1\u001b[0m\n\u001b[0;31m    def efficiency(dist, gas)\u001b[0m\n\u001b[0m                              ^\u001b[0m\n\u001b[0;31mSyntaxError\u001b[0m\u001b[0;31m:\u001b[0m invalid syntax\n"
          ]
        }
      ]
    },
    {
      "cell_type": "markdown",
      "metadata": {
        "id": "Ow4CfiRRGKXV"
      },
      "source": [
        "1. SyntaxError\n",
        "\n",
        "* Km, dist are not matching that means the dist used is not the same variable  name. We are getting the distance travelled and storing it in km, whilst we access the dist_traveled that is also not defined.\n",
        "\n",
        "* To solve this error, we should change km and dist to dist_traveled.\n",
        "\n",
        "2. SyntaxError\n",
        "\n",
        "* here is again variables do not match. Programming language is a case sensitive, so liters and Liters are different variables. \n",
        "\n",
        "3. SyntaxError: There is also quotation is not closed.\n",
        "\n",
        "* To solve this error, we should name the same both variables and close the quotation.\n",
        "\n",
        "* Liters = input ( \"How much gas did you use?(In liters)\")\n",
        "\n",
        "4. LogicError: Values not given in appropriate data type.\n",
        "\n",
        "* We should convert dist_traveled and Liters into float or integer.\n",
        "\n",
        "* Liters = float(input ( \"How much gas did you use?(In liters)\"))\n",
        " \n",
        " dist_traveled = float(input (\"How far did your car travel? (In kilometers?) ))\n",
        "\n",
        "5. SyntaxError: print() function is not formatted correctly\n",
        "\n",
        "* In print function, everything inside the parenthesis will be printed.\n",
        "\n",
        "* To solve this problem, we should add parenthesis\n",
        "\n",
        "* print (MPG) \n",
        "\n",
        "6. ZeroDivisionError: it is possible to occur this error, when putting 0 value into Liters.\n",
        "\n",
        "* To solve this problem, we should check if value is more than zero\n",
        "\n",
        "# The fixed code\n",
        "\n",
        "\n",
        "\n",
        "```\n",
        "def efficiency(dist_traveled, Liters): \n",
        " return dist_traveled/Liters\n",
        "dist_traveled = float(input (\"How far did your car travel? (In kilometers?)\")) \n",
        "Liters = float(input (\"How much gas did you use? (In liters)\"))\n",
        "if Liters > 0:\n",
        "  MPG = efficiency(dist_traveled, Liters) \n",
        "  print(MPG)\n",
        "else:\n",
        "  print('Please put a value that more than zero') \n",
        "```\n",
        "\n",
        "\n",
        "\n",
        "\n",
        "\n"
      ]
    },
    {
      "cell_type": "code",
      "metadata": {
        "colab": {
          "base_uri": "https://localhost:8080/",
          "height": 363
        },
        "id": "R8SUwOduGID4",
        "outputId": "ae8492e9-a52d-4566-c022-bfc4ae6dce20"
      },
      "source": [
        "def efficiency(dist_traveled, Liters): \n",
        " return dist_traveled/Liters\n",
        "dist_traveled = float(input (\"How far did your car travel? (In kilometers?)\")) \n",
        "Liters = float(input (\"How much gas did you use? (In liters)\"))\n",
        "if Liters > 0:\n",
        "  MPG = efficiency(dist_traveled, Liters) \n",
        "  print(MPG)\n",
        "else:\n",
        "  print('Please put a value that more than zero') \n"
      ],
      "execution_count": 24,
      "outputs": [
        {
          "name": "stdout",
          "output_type": "stream",
          "text": [
            "How far did your car travel? (In kilometers?)0\n",
            "How much gas did you use? (In liters)0\n"
          ]
        },
        {
          "output_type": "error",
          "ename": "ZeroDivisionError",
          "evalue": "ignored",
          "traceback": [
            "\u001b[0;31m---------------------------------------------------------------------------\u001b[0m",
            "\u001b[0;31mZeroDivisionError\u001b[0m                         Traceback (most recent call last)",
            "\u001b[0;32m<ipython-input-24-7cdc073f96cd>\u001b[0m in \u001b[0;36m<module>\u001b[0;34m()\u001b[0m\n\u001b[1;32m      3\u001b[0m \u001b[0mdist_traveled\u001b[0m \u001b[0;34m=\u001b[0m \u001b[0mfloat\u001b[0m\u001b[0;34m(\u001b[0m\u001b[0minput\u001b[0m \u001b[0;34m(\u001b[0m\u001b[0;34m\"How far did your car travel? (In kilometers?)\"\u001b[0m\u001b[0;34m)\u001b[0m\u001b[0;34m)\u001b[0m\u001b[0;34m\u001b[0m\u001b[0;34m\u001b[0m\u001b[0m\n\u001b[1;32m      4\u001b[0m \u001b[0mLiters\u001b[0m \u001b[0;34m=\u001b[0m \u001b[0mfloat\u001b[0m\u001b[0;34m(\u001b[0m\u001b[0minput\u001b[0m \u001b[0;34m(\u001b[0m\u001b[0;34m\"How much gas did you use? (In liters)\"\u001b[0m\u001b[0;34m)\u001b[0m\u001b[0;34m)\u001b[0m\u001b[0;34m\u001b[0m\u001b[0;34m\u001b[0m\u001b[0m\n\u001b[0;32m----> 5\u001b[0;31m \u001b[0mMPG\u001b[0m \u001b[0;34m=\u001b[0m \u001b[0mefficiency\u001b[0m\u001b[0;34m(\u001b[0m\u001b[0mdist_traveled\u001b[0m\u001b[0;34m,\u001b[0m \u001b[0mLiters\u001b[0m\u001b[0;34m)\u001b[0m\u001b[0;34m\u001b[0m\u001b[0;34m\u001b[0m\u001b[0m\n\u001b[0m\u001b[1;32m      6\u001b[0m \u001b[0mprint\u001b[0m\u001b[0;34m(\u001b[0m\u001b[0mMPG\u001b[0m\u001b[0;34m)\u001b[0m\u001b[0;34m\u001b[0m\u001b[0;34m\u001b[0m\u001b[0m\n",
            "\u001b[0;32m<ipython-input-24-7cdc073f96cd>\u001b[0m in \u001b[0;36mefficiency\u001b[0;34m(dist_traveled, Liters)\u001b[0m\n\u001b[1;32m      1\u001b[0m \u001b[0;32mdef\u001b[0m \u001b[0mefficiency\u001b[0m\u001b[0;34m(\u001b[0m\u001b[0mdist_traveled\u001b[0m\u001b[0;34m,\u001b[0m \u001b[0mLiters\u001b[0m\u001b[0;34m)\u001b[0m\u001b[0;34m:\u001b[0m\u001b[0;34m\u001b[0m\u001b[0;34m\u001b[0m\u001b[0m\n\u001b[0;32m----> 2\u001b[0;31m  \u001b[0;32mreturn\u001b[0m \u001b[0mdist_traveled\u001b[0m\u001b[0;34m/\u001b[0m\u001b[0mLiters\u001b[0m\u001b[0;34m\u001b[0m\u001b[0;34m\u001b[0m\u001b[0m\n\u001b[0m\u001b[1;32m      3\u001b[0m \u001b[0mdist_traveled\u001b[0m \u001b[0;34m=\u001b[0m \u001b[0mfloat\u001b[0m\u001b[0;34m(\u001b[0m\u001b[0minput\u001b[0m \u001b[0;34m(\u001b[0m\u001b[0;34m\"How far did your car travel? (In kilometers?)\"\u001b[0m\u001b[0;34m)\u001b[0m\u001b[0;34m)\u001b[0m\u001b[0;34m\u001b[0m\u001b[0;34m\u001b[0m\u001b[0m\n\u001b[1;32m      4\u001b[0m \u001b[0mLiters\u001b[0m \u001b[0;34m=\u001b[0m \u001b[0mfloat\u001b[0m\u001b[0;34m(\u001b[0m\u001b[0minput\u001b[0m \u001b[0;34m(\u001b[0m\u001b[0;34m\"How much gas did you use? (In liters)\"\u001b[0m\u001b[0;34m)\u001b[0m\u001b[0;34m)\u001b[0m\u001b[0;34m\u001b[0m\u001b[0;34m\u001b[0m\u001b[0m\n\u001b[1;32m      5\u001b[0m \u001b[0mMPG\u001b[0m \u001b[0;34m=\u001b[0m \u001b[0mefficiency\u001b[0m\u001b[0;34m(\u001b[0m\u001b[0mdist_traveled\u001b[0m\u001b[0;34m,\u001b[0m \u001b[0mLiters\u001b[0m\u001b[0;34m)\u001b[0m\u001b[0;34m\u001b[0m\u001b[0;34m\u001b[0m\u001b[0m\n",
            "\u001b[0;31mZeroDivisionError\u001b[0m: float division by zero"
          ]
        }
      ]
    },
    {
      "cell_type": "code",
      "metadata": {
        "colab": {
          "base_uri": "https://localhost:8080/"
        },
        "id": "9X49jZQEKJlc",
        "outputId": "d7f85c79-0b3d-4ed8-8bdc-086325a3c3c0"
      },
      "source": [
        "def efficiency(dist_traveled, Liters): \n",
        " return dist_traveled/Liters\n",
        "dist_traveled = float(input (\"How far did your car travel? (In kilometers?)\")) \n",
        "Liters = float(input (\"How much gas did you use? (In liters)\"))\n",
        "if Liters > 0:\n",
        "  MPG = efficiency(dist_traveled, Liters) \n",
        "  print(MPG)\n",
        "else:\n",
        "  print('Please put a value that more than zero') "
      ],
      "execution_count": 26,
      "outputs": [
        {
          "output_type": "stream",
          "name": "stdout",
          "text": [
            "How far did your car travel? (In kilometers?)125\n",
            "How much gas did you use? (In liters)2\n",
            "62.5\n"
          ]
        }
      ]
    },
    {
      "cell_type": "markdown",
      "metadata": {
        "id": "Sd4FrpvrVLpa"
      },
      "source": [
        "## Question 4\n",
        "Write a program the reads in sales.csv and calculates the maximum, minimum and average  profit for each country in the Australia and Oceania region. For each country in the  Australia and Oceania region the plot their total profit. (Hint: read the CSV into a Pandas dataframe, create a new dataframe for the region, and use the new dataframe for the  calculations and bar chart) \n",
        "\n",
        "# Problem Solving Methodology\n",
        "In the process of problem-solving, there are five key steps to follow:\n",
        "1. State the problem clearly\n",
        "2. Describe the input and output information\n",
        "3. Work the problem by hand \n",
        "4. Develop an algorithm\n",
        "5. Test solution with a variety of data.\n",
        "\n",
        "# Step 1: State the problem \n",
        "* How to read the CSV file?\n",
        "* How to calculate max, min, and average profit for each country in the Australia and Oceania\n",
        "\n",
        "# Step 2 : Describe the input and output information\n",
        "## Input\n",
        "* CSV file\n",
        "## Processing\n",
        "* calculate the max, min, and average profits for each country\n",
        "## Output \n",
        "* max, min, and average profits for each country in the Australia and Oceania region\n",
        "\n",
        "# Step3 : Work the problem by hand\n",
        "\n",
        "\n",
        "\n",
        "```\n",
        "    Region\t              Country\t         Total Profit\n",
        "0\tAustralia and Oceania\t  Tuvalu\t         951410.50\n",
        "5\tAustralia and Oceania\t  Solomon Islands\t 285087.64\n",
        "19\tAustralia and Oceania\tEast Timor\t     337937.60\n",
        "23\tAustralia and Oceania\tNew Zealand\t     5270.67\n",
        "26\tAustralia and Oceania\tKiribati\t       13009.18\n",
        "32\tAustralia and Oceania\tAustralia\t       369155.00\n",
        "56\tAustralia and Oceania\tFiji\t           727423.20\n",
        "60\tAustralia and Oceania\tAustralia\t       60418.38\n",
        "76\tAustralia and Oceania\tFederated States of Micronesia\t146875.14\n",
        "79\tAustralia and Oceania\tSamoa\t           1678540.98\n",
        "91\tAustralia and Oceania\tAustralia\t       147031.74\n",
        "```\n",
        "\n",
        "The country of maximum profit: ('Samoa ', 1678540.98)\n",
        "The country of minimum profit: ('New Zealand', 5270.67)\n",
        "\n",
        "\n",
        "\n"
      ]
    },
    {
      "cell_type": "code",
      "metadata": {
        "id": "OTSfqsSwMydq"
      },
      "source": [
        "# Import libraries\n",
        "import pandas as pd\n",
        "import csv\n",
        "import matplotlib.pyplot as plt "
      ],
      "execution_count": 28,
      "outputs": []
    },
    {
      "cell_type": "code",
      "metadata": {
        "colab": {
          "base_uri": "https://localhost:8080/",
          "height": 417
        },
        "id": "vIDLmmnoa2Q0",
        "outputId": "b934c554-9b97-472d-9e4d-9f22e954f529"
      },
      "source": [
        "# read the CSV file and we need just region , country, and total profit info\n",
        "col_list = ['Region', 'Country', 'Units Sold', 'Total Profit']\n",
        "df = pd.read_csv('sales.csv', usecols=col_list)\n",
        "df"
      ],
      "execution_count": 63,
      "outputs": [
        {
          "output_type": "execute_result",
          "data": {
            "text/html": [
              "<div>\n",
              "<style scoped>\n",
              "    .dataframe tbody tr th:only-of-type {\n",
              "        vertical-align: middle;\n",
              "    }\n",
              "\n",
              "    .dataframe tbody tr th {\n",
              "        vertical-align: top;\n",
              "    }\n",
              "\n",
              "    .dataframe thead th {\n",
              "        text-align: right;\n",
              "    }\n",
              "</style>\n",
              "<table border=\"1\" class=\"dataframe\">\n",
              "  <thead>\n",
              "    <tr style=\"text-align: right;\">\n",
              "      <th></th>\n",
              "      <th>Region</th>\n",
              "      <th>Country</th>\n",
              "      <th>Units Sold</th>\n",
              "      <th>Total Profit</th>\n",
              "    </tr>\n",
              "  </thead>\n",
              "  <tbody>\n",
              "    <tr>\n",
              "      <th>0</th>\n",
              "      <td>Australia and Oceania</td>\n",
              "      <td>Tuvalu</td>\n",
              "      <td>9925</td>\n",
              "      <td>951410.50</td>\n",
              "    </tr>\n",
              "    <tr>\n",
              "      <th>1</th>\n",
              "      <td>Central America and the Caribbean</td>\n",
              "      <td>Grenada</td>\n",
              "      <td>2804</td>\n",
              "      <td>248406.36</td>\n",
              "    </tr>\n",
              "    <tr>\n",
              "      <th>2</th>\n",
              "      <td>Europe</td>\n",
              "      <td>Russia</td>\n",
              "      <td>1779</td>\n",
              "      <td>224598.75</td>\n",
              "    </tr>\n",
              "    <tr>\n",
              "      <th>3</th>\n",
              "      <td>Sub-Saharan Africa</td>\n",
              "      <td>Sao Tome and Principe</td>\n",
              "      <td>8102</td>\n",
              "      <td>19525.82</td>\n",
              "    </tr>\n",
              "    <tr>\n",
              "      <th>4</th>\n",
              "      <td>Sub-Saharan Africa</td>\n",
              "      <td>Rwanda</td>\n",
              "      <td>5062</td>\n",
              "      <td>639077.50</td>\n",
              "    </tr>\n",
              "    <tr>\n",
              "      <th>...</th>\n",
              "      <td>...</td>\n",
              "      <td>...</td>\n",
              "      <td>...</td>\n",
              "      <td>...</td>\n",
              "    </tr>\n",
              "    <tr>\n",
              "      <th>95</th>\n",
              "      <td>Sub-Saharan Africa</td>\n",
              "      <td>Mali</td>\n",
              "      <td>888</td>\n",
              "      <td>65214.72</td>\n",
              "    </tr>\n",
              "    <tr>\n",
              "      <th>96</th>\n",
              "      <td>Asia</td>\n",
              "      <td>Malaysia</td>\n",
              "      <td>6267</td>\n",
              "      <td>15103.47</td>\n",
              "    </tr>\n",
              "    <tr>\n",
              "      <th>97</th>\n",
              "      <td>Sub-Saharan Africa</td>\n",
              "      <td>Sierra Leone</td>\n",
              "      <td>1485</td>\n",
              "      <td>93748.05</td>\n",
              "    </tr>\n",
              "    <tr>\n",
              "      <th>98</th>\n",
              "      <td>North America</td>\n",
              "      <td>Mexico</td>\n",
              "      <td>5767</td>\n",
              "      <td>144521.02</td>\n",
              "    </tr>\n",
              "    <tr>\n",
              "      <th>99</th>\n",
              "      <td>Sub-Saharan Africa</td>\n",
              "      <td>Mozambique</td>\n",
              "      <td>5367</td>\n",
              "      <td>889472.91</td>\n",
              "    </tr>\n",
              "  </tbody>\n",
              "</table>\n",
              "<p>100 rows × 4 columns</p>\n",
              "</div>"
            ],
            "text/plain": [
              "                               Region  ... Total Profit\n",
              "0               Australia and Oceania  ...    951410.50\n",
              "1   Central America and the Caribbean  ...    248406.36\n",
              "2                              Europe  ...    224598.75\n",
              "3                  Sub-Saharan Africa  ...     19525.82\n",
              "4                  Sub-Saharan Africa  ...    639077.50\n",
              "..                                ...  ...          ...\n",
              "95                 Sub-Saharan Africa  ...     65214.72\n",
              "96                               Asia  ...     15103.47\n",
              "97                 Sub-Saharan Africa  ...     93748.05\n",
              "98                      North America  ...    144521.02\n",
              "99                 Sub-Saharan Africa  ...    889472.91\n",
              "\n",
              "[100 rows x 4 columns]"
            ]
          },
          "metadata": {},
          "execution_count": 63
        }
      ]
    },
    {
      "cell_type": "code",
      "metadata": {
        "colab": {
          "base_uri": "https://localhost:8080/",
          "height": 388
        },
        "id": "a5VrRYJLa_zL",
        "outputId": "54a088d0-6e54-4351-9bd9-cdad03b366db"
      },
      "source": [
        "#lets set the region\n",
        "aus_df = df.loc[df['Region'] == 'Australia and Oceania']\n",
        "aus_df"
      ],
      "execution_count": 64,
      "outputs": [
        {
          "output_type": "execute_result",
          "data": {
            "text/html": [
              "<div>\n",
              "<style scoped>\n",
              "    .dataframe tbody tr th:only-of-type {\n",
              "        vertical-align: middle;\n",
              "    }\n",
              "\n",
              "    .dataframe tbody tr th {\n",
              "        vertical-align: top;\n",
              "    }\n",
              "\n",
              "    .dataframe thead th {\n",
              "        text-align: right;\n",
              "    }\n",
              "</style>\n",
              "<table border=\"1\" class=\"dataframe\">\n",
              "  <thead>\n",
              "    <tr style=\"text-align: right;\">\n",
              "      <th></th>\n",
              "      <th>Region</th>\n",
              "      <th>Country</th>\n",
              "      <th>Units Sold</th>\n",
              "      <th>Total Profit</th>\n",
              "    </tr>\n",
              "  </thead>\n",
              "  <tbody>\n",
              "    <tr>\n",
              "      <th>0</th>\n",
              "      <td>Australia and Oceania</td>\n",
              "      <td>Tuvalu</td>\n",
              "      <td>9925</td>\n",
              "      <td>951410.50</td>\n",
              "    </tr>\n",
              "    <tr>\n",
              "      <th>5</th>\n",
              "      <td>Australia and Oceania</td>\n",
              "      <td>Solomon Islands</td>\n",
              "      <td>2974</td>\n",
              "      <td>285087.64</td>\n",
              "    </tr>\n",
              "    <tr>\n",
              "      <th>19</th>\n",
              "      <td>Australia and Oceania</td>\n",
              "      <td>East Timor</td>\n",
              "      <td>5908</td>\n",
              "      <td>337937.60</td>\n",
              "    </tr>\n",
              "    <tr>\n",
              "      <th>23</th>\n",
              "      <td>Australia and Oceania</td>\n",
              "      <td>New Zealand</td>\n",
              "      <td>2187</td>\n",
              "      <td>5270.67</td>\n",
              "    </tr>\n",
              "    <tr>\n",
              "      <th>26</th>\n",
              "      <td>Australia and Oceania</td>\n",
              "      <td>Kiribati</td>\n",
              "      <td>5398</td>\n",
              "      <td>13009.18</td>\n",
              "    </tr>\n",
              "    <tr>\n",
              "      <th>32</th>\n",
              "      <td>Australia and Oceania</td>\n",
              "      <td>Australia</td>\n",
              "      <td>2924</td>\n",
              "      <td>369155.00</td>\n",
              "    </tr>\n",
              "    <tr>\n",
              "      <th>56</th>\n",
              "      <td>Australia and Oceania</td>\n",
              "      <td>Fiji</td>\n",
              "      <td>9905</td>\n",
              "      <td>727423.20</td>\n",
              "    </tr>\n",
              "    <tr>\n",
              "      <th>60</th>\n",
              "      <td>Australia and Oceania</td>\n",
              "      <td>Australia</td>\n",
              "      <td>682</td>\n",
              "      <td>60418.38</td>\n",
              "    </tr>\n",
              "    <tr>\n",
              "      <th>76</th>\n",
              "      <td>Australia and Oceania</td>\n",
              "      <td>Federated States of Micronesia</td>\n",
              "      <td>9379</td>\n",
              "      <td>146875.14</td>\n",
              "    </tr>\n",
              "    <tr>\n",
              "      <th>79</th>\n",
              "      <td>Australia and Oceania</td>\n",
              "      <td>Samoa</td>\n",
              "      <td>9654</td>\n",
              "      <td>1678540.98</td>\n",
              "    </tr>\n",
              "    <tr>\n",
              "      <th>91</th>\n",
              "      <td>Australia and Oceania</td>\n",
              "      <td>Australia</td>\n",
              "      <td>9389</td>\n",
              "      <td>147031.74</td>\n",
              "    </tr>\n",
              "  </tbody>\n",
              "</table>\n",
              "</div>"
            ],
            "text/plain": [
              "                   Region  ... Total Profit\n",
              "0   Australia and Oceania  ...    951410.50\n",
              "5   Australia and Oceania  ...    285087.64\n",
              "19  Australia and Oceania  ...    337937.60\n",
              "23  Australia and Oceania  ...      5270.67\n",
              "26  Australia and Oceania  ...     13009.18\n",
              "32  Australia and Oceania  ...    369155.00\n",
              "56  Australia and Oceania  ...    727423.20\n",
              "60  Australia and Oceania  ...     60418.38\n",
              "76  Australia and Oceania  ...    146875.14\n",
              "79  Australia and Oceania  ...   1678540.98\n",
              "91  Australia and Oceania  ...    147031.74\n",
              "\n",
              "[11 rows x 4 columns]"
            ]
          },
          "metadata": {},
          "execution_count": 64
        }
      ]
    },
    {
      "cell_type": "code",
      "metadata": {
        "colab": {
          "base_uri": "https://localhost:8080/"
        },
        "id": "UDgPlIX_iS3u",
        "outputId": "2b326ef6-44e1-4049-cfea-168e91539bec"
      },
      "source": [
        "max_profit=aus_df['Total Profit'].max()\n",
        "max_profit_country=aus_df[aus_df['Total Profit']==max_profit]['Country'].values[0]\n",
        "print('The country of maximum profit:',(max_profit_country, max_profit))\n",
        "min_profit=aus_df['Total Profit'].min()\n",
        "min_profit_country=aus_df[aus_df['Total Profit']==min_profit]['Country'].values[0]\n",
        "print('The country of minimum profit:',(min_profit_country, min_profit))\n",
        "\n",
        "\n"
      ],
      "execution_count": 67,
      "outputs": [
        {
          "output_type": "stream",
          "name": "stdout",
          "text": [
            "The country of maximum profit: ('Samoa ', 1678540.98)\n",
            "The country of minimum profit: ('New Zealand', 5270.67)\n"
          ]
        }
      ]
    },
    {
      "cell_type": "code",
      "metadata": {
        "id": "_1_GdqG8k6k1"
      },
      "source": [
        ""
      ],
      "execution_count": null,
      "outputs": []
    }
  ]
}